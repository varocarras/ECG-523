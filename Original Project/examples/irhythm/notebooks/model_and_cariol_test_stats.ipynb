{
 "cells": [
  {
   "cell_type": "code",
   "execution_count": 1,
   "metadata": {},
   "outputs": [
    {
     "name": "stderr",
     "output_type": "stream",
     "text": [
      "Using TensorFlow backend.\n"
     ]
    }
   ],
   "source": [
    "import json\n",
    "import keras\n",
    "import math\n",
    "import matplotlib\n",
    "import matplotlib.pyplot as plt\n",
    "import numpy as np\n",
    "import os\n",
    "import sklearn\n",
    "import sklearn.metrics as skm\n",
    "import sys\n",
    "sys.path.append(\"../../../ecg\")\n",
    "\n",
    "import load\n",
    "import util\n",
    "%matplotlib inline"
   ]
  },
  {
   "cell_type": "code",
   "execution_count": 3,
   "metadata": {},
   "outputs": [
    {
     "name": "stderr",
     "output_type": "stream",
     "text": [
      "100%|██████████| 328/328 [00:11<00:00, 29.52it/s] \n"
     ]
    },
    {
     "name": "stdout",
     "output_type": "stream",
     "text": [
      "328/328 [==============================] - 8s 25ms/step\n"
     ]
    }
   ],
   "source": [
    "model_path = \"/deep/group/awni/ecg_models/default/irhythm_best/0.341-0.881-013-0.241-0.911.hdf5\"\n",
    "data_json = \"../test.json\"\n",
    "\n",
    "preproc = util.load(os.path.dirname(model_path))\n",
    "dataset = load.load_dataset(data_json)\n",
    "ecgs, committee_labels = preproc.process(*dataset)\n",
    "\n",
    "revs = []\n",
    "for i in range(6):\n",
    "    with open(\"../test_rev{}.json\".format(i), 'r') as fid:\n",
    "        revs.append([json.loads(l)['labels'] for l in fid])\n",
    "revs = [preproc.process_y(r) for r in revs]\n",
    "model = keras.models.load_model(model_path)\n",
    "probs = model.predict(ecgs, verbose=1)"
   ]
  },
  {
   "cell_type": "code",
   "execution_count": 4,
   "metadata": {},
   "outputs": [],
   "source": [
    "def stats(ground_truth, preds):\n",
    "    labels = range(ground_truth.shape[2])\n",
    "    g = np.argmax(ground_truth, axis=2).ravel()\n",
    "    p = np.argmax(preds, axis=2).ravel()\n",
    "    stat_dict = {}\n",
    "    for i in labels:\n",
    "        # compute all the stats for each label\n",
    "        tp = np.sum(g[g==i] == p[g==i])\n",
    "        fp = np.sum(g[p==i] != p[p==i])\n",
    "        fn = np.sum(g==i) - tp\n",
    "        tn = np.sum(g!=i) - fp\n",
    "        stat_dict[i] = (tp, fp, fn, tn)\n",
    "    return stat_dict\n",
    "\n",
    "def to_set(preds):\n",
    "    idxs = np.argmax(preds, axis=2)\n",
    "    return [list(set(r)) for r in idxs]\n",
    "\n",
    "def set_stats(ground_truth, preds):\n",
    "    labels = range(ground_truth.shape[2])\n",
    "    ground_truth = to_set(ground_truth)\n",
    "    preds = to_set(preds)\n",
    "    stat_dict = {}\n",
    "    for x in labels:\n",
    "        tp = 0; fp = 0; fn = 0; tn = 0;\n",
    "        for g, p in zip(ground_truth, preds):\n",
    "            if x in g and x in p: # tp\n",
    "                tp += 1\n",
    "            if x not in g and x in p: # fp\n",
    "                fp += 1\n",
    "            if x in g and x not in p:\n",
    "                fn += 1\n",
    "            if x not in g and x not in p:\n",
    "                tn += 1\n",
    "        stat_dict[x] = (tp, fp, fn, tn)\n",
    "    return stat_dict\n",
    "\n",
    "def binarized_helper(p, g):\n",
    "    # compute all the stats for each label\n",
    "    tp = np.sum(p[g==1] == g[g==1])\n",
    "    fp = np.sum(p[p==1] != g[p==1])\n",
    "    fn = np.sum(g) - tp\n",
    "    tn = np.sum(g==0) - fp\n",
    "    return (tp, fp, fn, tn)\n",
    "\n",
    "def binarized_stats(ground_truth, probs, thresh=0.5):\n",
    "    labels = range(ground_truth.shape[2])\n",
    "    stat_dict = {}\n",
    "    for i in labels:\n",
    "        g = ground_truth[..., i].ravel()\n",
    "        p = (probs[..., i] > thresh).ravel()\n",
    "        stat_dict[i] = binarized_helper(p, g)\n",
    "    return stat_dict\n",
    "\n",
    "# Compute sensitivity at given specificity\n",
    "def binarized_stats_at_spec(ground_truth, probs, specs):\n",
    "    stat_dict = {}\n",
    "    for i, min_spec in enumerate(specs):\n",
    "        g = ground_truth[..., i].ravel()\n",
    "\n",
    "        ranges = [0, 1]\n",
    "        thresh = 0.5\n",
    "\n",
    "        for _ in range(1000):\n",
    "            p = (probs[..., i] > thresh).ravel()\n",
    "            tp, fp, fn, tn = binarized_helper(p, g)            \n",
    "            spec = tn / float(tn + fp)\n",
    "            if spec >= min_spec:\n",
    "                ranges[1] = thresh\n",
    "                thresh = (thresh + ranges[0]) / 2.0\n",
    "            if spec < min_spec:\n",
    "                ranges[0] = thresh\n",
    "                thresh = (ranges[1] + thresh) / 2.0\n",
    "        stat_dict[i] = (tp, fp, fn, tn)\n",
    "    return stat_dict\n",
    "\n",
    "# Compute specificity at given sensitivity\n",
    "def binarized_stats_at_sens(ground_truth, probs, senses):\n",
    "    stat_dict = {}\n",
    "    for i, min_sens in enumerate(senses):\n",
    "        #g = np.any(ground_truth[..., i], axis=1).ravel()\n",
    "        g = ground_truth[..., i].ravel()\n",
    "\n",
    "        ranges = [0, 1]\n",
    "        thresh = 0.5\n",
    "\n",
    "        for _ in range(1000):\n",
    "            #p = np.any(probs[..., i] > thresh, axis=1).ravel()\n",
    "            p = (probs[..., i] > thresh).ravel()\n",
    "            tp, fp, fn, tn = binarized_helper(p, g)            \n",
    "            sens = tp / float(tp + fn)\n",
    "            if sens < min_sens:\n",
    "                ranges[1] = thresh\n",
    "                thresh = (thresh + ranges[0]) / 2.0\n",
    "            if sens > min_sens:\n",
    "                ranges[0] = thresh\n",
    "                thresh = (ranges[1] + thresh) / 2.0\n",
    "        stat_dict[i] = (tp, fp, fn, tn)\n",
    "    return stat_dict\n",
    "\n",
    "def print_results(sd):\n",
    "    print \"\\t\\tPrecision  Recall     Specificity     NPV        F1\"\n",
    "    tf1 = 0; tot = 0\n",
    "    for k, v in sd.items():\n",
    "        tp, fp, fn, tn = v\n",
    "        precision = tp / float(tp + fp)\n",
    "        recall = tp / float(tp + fn)\n",
    "        specificity = tn / float(tn + fp)\n",
    "        npv = tn / float(tn + fn)\n",
    "        f1 = 2 * precision * recall / (precision + recall)\n",
    "        tf1 += (tp + fn) * f1\n",
    "        tot += (tp + fn)\n",
    "        print \"{:>10} {:10.3f} {:10.3f} {:10.3f} {:15.3f} {:10.3f}\".format(\n",
    "            preproc.classes[k], precision, recall, specificity, npv, f1)\n",
    "    print \"Average F1 {:.3f}\".format(tf1 / float(tot))"
   ]
  },
  {
   "cell_type": "markdown",
   "metadata": {},
   "source": [
    "### Sequence level results for the Model and the Cardiologists"
   ]
  },
  {
   "cell_type": "code",
   "execution_count": 5,
   "metadata": {},
   "outputs": [
    {
     "name": "stdout",
     "output_type": "stream",
     "text": [
      "Model\n",
      "\t\tPrecision  Recall     Specificity     NPV        F1\n",
      "        AF      0.782      0.827      0.965           0.973      0.804\n",
      "       AVB      0.810      0.865      0.976           0.984      0.837\n",
      "  BIGEMINY      0.902      0.856      0.997           0.996      0.879\n",
      "       EAR      0.566      0.484      0.987           0.982      0.522\n",
      "       IVR      0.843      0.718      0.996           0.993      0.776\n",
      "JUNCTIONAL      0.877      0.518      0.994           0.963      0.651\n",
      "     NOISE      0.953      0.770      0.997           0.980      0.852\n",
      "     SINUS      0.851      0.934      0.893           0.953      0.891\n",
      "       SVT      0.563      0.406      0.987           0.975      0.472\n",
      " TRIGEMINY      0.858      0.961      0.995           0.999      0.907\n",
      "        VT      0.380      0.872      0.991           0.999      0.529\n",
      "WENCKEBACH      0.690      0.715      0.984           0.986      0.703\n",
      "Average F1 0.809\n"
     ]
    }
   ],
   "source": [
    "print \"Model\"\n",
    "print_results(stats(committee_labels, probs))"
   ]
  },
  {
   "cell_type": "code",
   "execution_count": 6,
   "metadata": {},
   "outputs": [
    {
     "name": "stdout",
     "output_type": "stream",
     "text": [
      "Cardiologist\n",
      "\t\tPrecision  Recall     Specificity     NPV        F1\n",
      "        AF      0.647      0.710      0.941           0.955      0.677\n",
      "       AVB      0.818      0.731      0.981           0.969      0.772\n",
      "  BIGEMINY      0.856      0.829      0.996           0.995      0.842\n",
      "       EAR      0.659      0.380      0.993           0.979      0.482\n",
      "       IVR      0.654      0.611      0.991           0.990      0.632\n",
      "JUNCTIONAL      0.762      0.634      0.984           0.972      0.692\n",
      "     NOISE      0.788      0.749      0.983           0.978      0.768\n",
      "     SINUS      0.808      0.901      0.859           0.930      0.852\n",
      "       SVT      0.503      0.408      0.983           0.975      0.451\n",
      " TRIGEMINY      0.853      0.832      0.995           0.995      0.842\n",
      "        VT      0.500      0.652      0.996           0.998      0.566\n",
      "WENCKEBACH      0.651      0.541      0.986           0.978      0.591\n",
      "Average F1 0.753\n"
     ]
    }
   ],
   "source": [
    "print \"Cardiologist\"\n",
    "rev_labels = np.vstack(revs)\n",
    "rep_comm = np.vstack([committee_labels]*len(revs))\n",
    "cardiol_stats = stats(rep_comm, rev_labels)\n",
    "cardiol_specs = [tn / float(tn + fp)\n",
    "                 for k, (tp, fp, fn, tn) in cardiol_stats.items()]\n",
    "print_results(cardiol_stats)"
   ]
  },
  {
   "cell_type": "markdown",
   "metadata": {},
   "source": [
    "### Set level results for the Model and Cardiologists"
   ]
  },
  {
   "cell_type": "code",
   "execution_count": 7,
   "metadata": {},
   "outputs": [
    {
     "name": "stdout",
     "output_type": "stream",
     "text": [
      "Model\n",
      "\t\tPrecision  Recall     Specificity     NPV        F1\n",
      "        AF      0.814      0.814      0.959           0.959      0.814\n",
      "       AVB      0.755      0.833      0.954           0.971      0.792\n",
      "  BIGEMINY      0.833      0.909      0.987           0.993      0.870\n",
      "       EAR      0.542      0.591      0.964           0.970      0.565\n",
      "       IVR      0.848      0.824      0.983           0.980      0.836\n",
      "JUNCTIONAL      0.788      0.722      0.976           0.966      0.754\n",
      "     NOISE      0.897      0.650      0.990           0.953      0.754\n",
      "     SINUS      0.893      0.981      0.783           0.957      0.935\n",
      "       SVT      0.625      0.735      0.949           0.969      0.676\n",
      " TRIGEMINY      0.792      0.950      0.984           0.997      0.864\n",
      "        VT      0.485      0.941      0.945           0.997      0.640\n",
      "WENCKEBACH      0.800      0.828      0.980           0.983      0.814\n",
      "Average F1 0.831\n"
     ]
    }
   ],
   "source": [
    "print \"Model\"\n",
    "print_results(set_stats(committee_labels, probs))"
   ]
  },
  {
   "cell_type": "code",
   "execution_count": 8,
   "metadata": {},
   "outputs": [
    {
     "name": "stdout",
     "output_type": "stream",
     "text": [
      "Cardiologist\n",
      "\t\tPrecision  Recall     Specificity     NPV        F1\n",
      "        AF      0.664      0.709      0.921           0.935      0.686\n",
      "       AVB      0.783      0.740      0.965           0.956      0.761\n",
      "  BIGEMINY      0.899      0.811      0.993           0.986      0.853\n",
      "       EAR      0.670      0.447      0.984           0.961      0.536\n",
      "       IVR      0.789      0.662      0.980           0.962      0.720\n",
      "JUNCTIONAL      0.703      0.657      0.966           0.958      0.679\n",
      "     NOISE      0.710      0.662      0.962           0.954      0.685\n",
      "     SINUS      0.880      0.941      0.762           0.875      0.910\n",
      "       SVT      0.630      0.510      0.965           0.945      0.564\n",
      " TRIGEMINY      0.833      0.792      0.990           0.987      0.812\n",
      "        VT      0.755      0.784      0.986           0.988      0.769\n",
      "WENCKEBACH      0.818      0.672      0.986           0.969      0.738\n",
      "Average F1 0.780\n"
     ]
    }
   ],
   "source": [
    "print \"Cardiologist\"\n",
    "print_results(set_stats(rep_comm, rev_labels))"
   ]
  },
  {
   "cell_type": "markdown",
   "metadata": {
    "collapsed": true
   },
   "source": [
    "### The \"Binarized\" Sensitivity and Specificity (Sequence Level)"
   ]
  },
  {
   "cell_type": "code",
   "execution_count": 9,
   "metadata": {},
   "outputs": [
    {
     "name": "stdout",
     "output_type": "stream",
     "text": [
      "\t\tPrecision  Recall     Specificity     NPV        F1\n",
      "        AF      0.797      0.803      0.969           0.970      0.800\n",
      "       AVB      0.827      0.845      0.979           0.982      0.836\n",
      "  BIGEMINY      0.903      0.778      0.998           0.993      0.836\n",
      "       EAR      0.594      0.508      0.988           0.983      0.547\n",
      "       IVR      0.861      0.697      0.997           0.992      0.771\n",
      "JUNCTIONAL      0.895      0.496      0.995           0.962      0.639\n",
      "     NOISE      0.964      0.757      0.998           0.979      0.848\n",
      "     SINUS      0.860      0.932      0.900           0.953      0.895\n",
      "       SVT      0.626      0.403      0.990           0.975      0.490\n",
      " TRIGEMINY      0.861      0.961      0.995           0.999      0.908\n",
      "        VT      0.417      0.851      0.993           0.999      0.559\n",
      "WENCKEBACH      0.696      0.696      0.985           0.985      0.696\n",
      "Average F1 0.809\n"
     ]
    }
   ],
   "source": [
    "print_results(binarized_stats(committee_labels, probs, thresh=0.5))"
   ]
  },
  {
   "cell_type": "markdown",
   "metadata": {},
   "source": [
    "### Compute max sensitivity at given specificity and vice versa"
   ]
  },
  {
   "cell_type": "code",
   "execution_count": 29,
   "metadata": {},
   "outputs": [
    {
     "name": "stdout",
     "output_type": "stream",
     "text": [
      "Sensitivity at 0.9 specificity.\n",
      "\t\tPrecision  Recall     Specificity     NPV        F1\n",
      "        AF      0.578      0.908      0.899           0.985      0.707\n",
      "       AVB      0.538      0.994      0.900           0.999      0.698\n",
      "  BIGEMINY      0.226      0.995      0.900           1.000      0.368\n",
      "       EAR      0.210      0.762      0.899           0.991      0.329\n",
      "       IVR      0.207      0.990      0.899           1.000      0.343\n",
      "JUNCTIONAL      0.438      0.995      0.899           1.000      0.608\n",
      "     NOISE      0.450      0.950      0.899           0.995      0.610\n",
      "     SINUS      0.859      0.932      0.899           0.952      0.894\n",
      "       SVT      0.290      0.964      0.900           0.998      0.446\n",
      " TRIGEMINY      0.239      0.996      0.899           1.000      0.386\n",
      "        VT      0.059      1.000      0.900           1.000      0.111\n",
      "WENCKEBACH      0.318      0.946      0.900           0.997      0.476\n",
      "Average F1 0.698\n",
      "Specificity at 0.9 sensitivity.\n",
      "\t\tPrecision  Recall     Specificity     NPV        F1\n",
      "        AF      0.594      0.900      0.906           0.983      0.715\n",
      "       AVB      0.709      0.901      0.956           0.988      0.793\n",
      "  BIGEMINY      0.878      0.898      0.996           0.997      0.888\n",
      "       EAR      0.091      0.902      0.684           0.995      0.166\n",
      "       IVR      0.685      0.903      0.989           0.997      0.779\n",
      "JUNCTIONAL      0.611      0.898      0.955           0.992      0.728\n",
      "     NOISE      0.599      0.900      0.948           0.991      0.720\n",
      "     SINUS      0.918      0.899      0.947           0.935      0.909\n",
      "       SVT      0.340      0.903      0.926           0.996      0.494\n",
      " TRIGEMINY      0.959      0.897      0.999           0.997      0.927\n",
      "        VT      0.249      0.894      0.983           0.999      0.389\n",
      "WENCKEBACH      0.404      0.901      0.934           0.995      0.557\n",
      "Average F1 0.777\n",
      "Sensitivity at cardiologist specificity.\n",
      "\t\tPrecision  Recall     Specificity     NPV        F1\n",
      "        AF      0.690      0.861      0.941           0.978      0.766\n",
      "       AVB      0.840      0.858      0.981           0.983      0.849\n",
      "  BIGEMINY      0.865      0.921      0.996           0.998      0.892\n",
      "       EAR      0.695      0.445      0.993           0.981      0.543\n",
      "       IVR      0.725      0.867      0.991           0.996      0.790\n",
      "JUNCTIONAL      0.788      0.729      0.985           0.979      0.757\n",
      "     NOISE      0.799      0.803      0.983           0.983      0.801\n",
      "     SINUS      0.816      0.950      0.859           0.963      0.878\n",
      "       SVT      0.545      0.487      0.983           0.978      0.515\n",
      " TRIGEMINY      0.871      0.961      0.995           0.999      0.914\n",
      "        VT      0.516      0.702      0.996           0.998      0.595\n",
      "WENCKEBACH      0.692      0.651      0.986           0.983      0.671\n",
      "Average F1 0.807\n"
     ]
    }
   ],
   "source": [
    "print \"Sensitivity at 0.9 specificity.\"\n",
    "print_results(binarized_stats_at_spec(\n",
    "    committee_labels, probs, specs=[0.8995]*len(preproc.classes)))\n",
    "print \"Specificity at 0.9 sensitivity.\"\n",
    "print_results(binarized_stats_at_sens(\n",
    "    committee_labels, probs, senses=[0.8995]*len(preproc.classes)))\n",
    "print \"Sensitivity at cardiologist specificity.\"\n",
    "print_results(binarized_stats_at_spec(\n",
    "    committee_labels, probs, specs=cardiol_specs))"
   ]
  },
  {
   "cell_type": "markdown",
   "metadata": {},
   "source": [
    "## AUC Scores"
   ]
  },
  {
   "cell_type": "code",
   "execution_count": 26,
   "metadata": {},
   "outputs": [],
   "source": [
    "def c_statistic_with_95p_confidence_interval(cstat, num_positives, num_negatives, z_alpha_2=1.96):\n",
    "    \"\"\"\n",
    "    Calculates the confidence interval of an ROC curve (c-statistic), using the method described\n",
    "    under \"Confidence Interval for AUC\" here:\n",
    "      https://ncss-wpengine.netdna-ssl.com/wp-content/themes/ncss/pdf/Procedures/PASS/Confidence_Intervals_for_the_Area_Under_an_ROC_Curve.pdf\n",
    "    Args:\n",
    "        cstat: the c-statistic (equivalent to area under the ROC curve)\n",
    "        num_positives: number of positive examples in the set.\n",
    "        num_negatives: number of negative examples in the set.\n",
    "        z_alpha_2 (optional): the critical value for an N% confidence interval, e.g., 1.96 for 95%,\n",
    "            2.326 for 98%, 2.576 for 99%, etc.\n",
    "    Returns:\n",
    "        The 95% confidence interval half-width, e.g., the Y in X ± Y.\n",
    "    \"\"\"\n",
    "    q1 = cstat / (2 - cstat)\n",
    "    q2 = 2 * cstat**2 / (1 + cstat)\n",
    "    numerator = cstat * (1 - cstat) \\\n",
    "        + (num_positives - 1) * (q1 - cstat**2) \\\n",
    "        + (num_negatives - 1) * (q2 - cstat**2)\n",
    "    standard_error_auc = math.sqrt(numerator / (num_positives * num_negatives))\n",
    "    return z_alpha_2 * standard_error_auc\n",
    "\n",
    "def roc_auc(ground_truth, probs, index):\n",
    "    gts = np.argmax(ground_truth, axis=2)\n",
    "    n_gts = np.zeros_like(gts)\n",
    "    n_gts[gts==index] = 1\n",
    "    n_pos = np.sum(n_gts == 1)\n",
    "    n_neg = n_gts.size - n_pos\n",
    "    n_ps = probs[..., index].squeeze()\n",
    "    n_gts, n_ps = n_gts.ravel(), n_ps.ravel()\n",
    "    return n_pos, n_neg, skm.roc_auc_score(n_gts, n_ps)\n",
    "\n",
    "def roc_auc_set(ground_truth, probs, index):\n",
    "    gts = np.argmax(ground_truth, axis=2)\n",
    "    max_ps = np.max(probs[...,index], axis=1)\n",
    "    max_gts = np.any(gts==index, axis=1)\n",
    "    pos = np.sum(max_gts)\n",
    "    neg = max_gts.size - pos\n",
    "    return pos, neg, skm.roc_auc_score(max_gts, max_ps)\n",
    "\n",
    "def print_aucs(auc_fn, ground_truth, probs):\n",
    "    macro_average = 0.0; total = 0.0\n",
    "    print \"\\t        AUC\"\n",
    "    for idx, cname in preproc.int_to_class.items():\n",
    "        pos, neg, auc = auc_fn(ground_truth, probs, idx)\n",
    "        total += pos\n",
    "        macro_average += pos * auc\n",
    "        conf = c_statistic_with_95p_confidence_interval(auc, pos, neg)\n",
    "        print \"{: <8}\\t{:.3f} ({:.3f}-{:.3f})\".format(cname, auc, auc-conf,auc+conf)\n",
    "    print \"Average\\t\\t{:.3f}\".format(macro_average / total)"
   ]
  },
  {
   "cell_type": "code",
   "execution_count": 27,
   "metadata": {},
   "outputs": [
    {
     "name": "stdout",
     "output_type": "stream",
     "text": [
      "Sequence level AUC\n",
      "\t        AUC\n",
      "AF      \t0.973 (0.966-0.980)\n",
      "AVB     \t0.988 (0.983-0.993)\n",
      "BIGEMINY\t0.997 (0.991-1.002)\n",
      "EAR     \t0.913 (0.889-0.937)\n",
      "IVR     \t0.995 (0.989-1.002)\n",
      "JUNCTIONAL\t0.987 (0.980-0.993)\n",
      "NOISE   \t0.981 (0.973-0.989)\n",
      "SINUS   \t0.975 (0.971-0.979)\n",
      "SVT     \t0.973 (0.960-0.985)\n",
      "TRIGEMINY\t0.998 (0.995-1.002)\n",
      "VT      \t0.995 (0.980-1.009)\n",
      "WENCKEBACH\t0.978 (0.967-0.989)\n",
      "Average\t\t0.978\n"
     ]
    }
   ],
   "source": [
    "print \"Sequence level AUC\"\n",
    "print_aucs(roc_auc, committee_labels, probs)"
   ]
  },
  {
   "cell_type": "code",
   "execution_count": 29,
   "metadata": {},
   "outputs": [
    {
     "name": "stdout",
     "output_type": "stream",
     "text": [
      "Set level AUC\n",
      "\t        AUC\n",
      "AF      \t0.965 (0.932-0.998)\n",
      "AVB     \t0.981 (0.953-1.008)\n",
      "BIGEMINY\t0.996 (0.976-1.015)\n",
      "EAR     \t0.940 (0.870-1.009)\n",
      "IVR     \t0.987 (0.959-1.014)\n",
      "JUNCTIONAL\t0.979 (0.946-1.012)\n",
      "NOISE   \t0.947 (0.898-0.996)\n",
      "SINUS   \t0.987 (0.976-0.998)\n",
      "SVT     \t0.953 (0.903-1.003)\n",
      "TRIGEMINY\t0.997 (0.979-1.015)\n",
      "VT      \t0.980 (0.934-1.027)\n",
      "WENCKEBACH\t0.977 (0.938-1.015)\n",
      "Average\t\t0.977\n"
     ]
    }
   ],
   "source": [
    "print \"Set level AUC\"\n",
    "print_aucs(roc_auc_set, committee_labels, probs)"
   ]
  },
  {
   "cell_type": "code",
   "execution_count": 19,
   "metadata": {},
   "outputs": [],
   "source": [
    "def plot_confusions(cm, xlabel, filename):\n",
    "    cm = sklearn.preprocessing.normalize(cm, norm='l1', axis=1, copy=True)\n",
    "    classes = preproc.classes\n",
    "    matplotlib.rcParams['figure.figsize'] = (8, 7)\n",
    "    plt.pcolor(np.flipud(cm), cmap=\"Blues\")\n",
    "    cbar = plt.colorbar()\n",
    "    cbar.ax.tick_params(labelsize=16) \n",
    "    tick_marks = np.arange(len(classes))\n",
    "    plt.xticks(tick_marks + .5, classes, rotation=90, fontsize=16)\n",
    "    plt.yticks(tick_marks + .5, reversed(classes), fontsize=16)\n",
    "    plt.clim(0, 1)\n",
    "    plt.ylabel(\"Committee consensus label\", fontsize=16)\n",
    "    plt.xlabel(xlabel, fontsize=16)\n",
    "    plt.tight_layout()\n",
    "    plt.savefig(filename,\n",
    "                dpi=400,\n",
    "                format='pdf',\n",
    "                bbox_inches='tight')"
   ]
  },
  {
   "cell_type": "code",
   "execution_count": 20,
   "metadata": {},
   "outputs": [
    {
     "data": {
      "image/png": "[encoded data removed]",
      "text/plain": [
       "<Figure size 576x504 with 2 Axes>"
      ]
     },
     "metadata": {},
     "output_type": "display_data"
    }
   ],
   "source": [
    "cm = skm.confusion_matrix(np.argmax(committee_labels, axis=2).ravel(),\n",
    "                      np.argmax(probs, axis=2).ravel())\n",
    "plot_confusions(cm, \"DNN predicted label\", \"model_confusions.pdf\")"
   ]
  },
  {
   "cell_type": "code",
   "execution_count": 21,
   "metadata": {},
   "outputs": [
    {
     "data": {
      "image/png": "[encoded data removed]",
      "text/plain": [
       "<Figure size 576x504 with 2 Axes>"
      ]
     },
     "metadata": {},
     "output_type": "display_data"
    }
   ],
   "source": [
    "h_cm = skm.confusion_matrix(np.argmax(rep_comm, axis=2).ravel(), np.argmax(rev_labels, axis=2).ravel())\n",
    "plot_confusions(h_cm, \"Average cardiologist label\", \"human_confusions.pdf\")"
   ]
  },
  {
   "cell_type": "code",
   "execution_count": 20,
   "metadata": {},
   "outputs": [],
   "source": [
    "vt_class_idx = preproc.class_to_int[\"VT\"]\n",
    "vt_idx = np.where(np.any(np.argmax(committee_labels, axis=2) == vt_class_idx, axis=1))[0]"
   ]
  },
  {
   "cell_type": "code",
   "execution_count": 21,
   "metadata": {},
   "outputs": [],
   "source": [
    "model_vt_idx = np.where(np.any(np.argmax(probs, axis=2) == vt_class_idx, axis=1))[0]"
   ]
  },
  {
   "cell_type": "code",
   "execution_count": 38,
   "metadata": {},
   "outputs": [
    {
     "name": "stdout",
     "output_type": "stream",
     "text": [
      "[0 0 0 0 0 0 0 4 4 4 4 4 4 4 4 0 0 0 0 0 0 0 0] [ 0  0  0  0  0  0  0  0 10 10  0 10 10 10 10  0  0  0  0  0  0  0  0]\n",
      "[7 7 7 7 7 7 7 4 4 4 4 4 7 7 7 7 7 7 7 7 7 7 7] [ 7  7  7  7  7  7  7 10 10  4  4  4  7  7  7  7  7  7  7  7  7  7  7]\n",
      "[7 7 7 7 7 7 7 7 4 4 4 4 7 7 7 7 7 7 7 7 7 7 7] [ 7  7  7  7  7  7  7  4  4  4  4 10 10  7  7  7  7  7  7  7  7  7  7]\n",
      "[7 7 7 7 7 7 7 7 7 7 4 4 6 6 6 6 4 4 4 4 4 4 4] [ 7  7  7  7  7  7  7  7  7  7 10  6  6  6  6  6  4  4  4  4  5  5  5]\n",
      "[7 7 7 7 7 7 7 7 4 4 4 4 4 4 7 7 7 7 7 7 7 7 7] [ 7  7  7  7  7  7  7  7 10 10 10 10 10 10  7  7  7  7  7  7  7  7  7]\n",
      "[5 5 5 5 5 5 4 4 4 4 4 4 4 4 4 4 4 4 5 5 5 5 5] [ 7  7  7  7  7  7 10 10 10 10 10 10 10 10 10 10  4  7  7  7  7  7  7]\n",
      "[7 7 7 7 7 7 7 7 7 7 7 4 4 7 7 7 7 7 7 7 7 7 7] [ 7  7  7  7  7  7  2  2  7  7 10 10 10  7  7  7  7  7  7  2  2  2  2]\n",
      "[0 0 0 0 0 0 4 4 4 0 0 0 4 4 4 0 0 0 0 0 0 0 0] [ 0  0  0  0  0  0  0 10  0  0  0  0  0  0  0  0  0  0  0  0  0  0  0]\n",
      "[5 5 5 5 5 5 5 5 5 5 5 5 7 7 7 7 5 5 5 5 5 7 7] [ 5  7  4  4  5  5  7 10 10  4  7  7  7  7  7  7  7  4  4  7  7  7  7]\n",
      "[5 5 5 5 5 5 5 5 5 0 0 0 0 0 0 5 5 5 5 5 5 5 5] [ 0  0  0  0  0  0  0  0  0 10 10 10 10 10 10  7  0  0  0  0  0  0  0]\n",
      "[7 2 2 2 2 2 2 2 2 2 2 4 4 4 2 2 7 7 7 7 7 7 7] [ 2  2  2  2  2  2  2  2  2  2 10 10 10 10  7  7  7  7  7  7  7  7  7]\n",
      "[7 7 7 7 7 7 7 7 7 8 8 8 8 8 7 7 7 7 7 7 7 7 7] [ 7  7  7  7  7  7  7  7  7  7  8 10 10 10  7  7  7  7  7  7  7  7  7]\n",
      "[2 2 2 2 2 2 2 2 2 7 8 8 8 8 7 9 9 9 9 9 7 7 7] [ 2  2  2  2  2  2  2  2  2  7  8 10 10 10  7  7  9  7  7  7  7  7  7]\n",
      "[7 7 7 7 7 7 7 7 7 7 4 4 4 7 7 7 7 7 7 7 7 7 7] [ 7  7  7  7  7  7  7  7  7  7 10 10 10  7  7  7  7  7  7  7  7  7  7]\n",
      "[7 7 7 7 7 7 7 7 0 0 0 0 0 0 0 0 7 7 7 7 7 7 7] [ 7  7  7  7  7  7  7  7  8  8  8  8 10  8  8  7  7  7  7  7  7  7  7]\n",
      "[7 7 7 7 7 7 7 7 7 7 8 8 8 8 8 8 8 8 8 8 8 8 8] [ 7  7  7  7  7  7  7  7  7  7 10 10 10 10 10  8  8  8  8  8  8  8  8]\n",
      "[7 7 7 7 7 7 7 7 7 0 0 0 0 0 0 7 7 7 7 7 7 7 7] [ 7  7  7  7  7  7  7  7  7 10 10 10 10 10 10  7  7  7  7  7  7  7  7]\n"
     ]
    }
   ],
   "source": [
    "missed = list(set(model_vt_idx).difference(set(vt_idx)))\n",
    "for m in missed:\n",
    "    print np.argmax(committee_labels, axis=2)[m, :], np.argmax(probs,axis=2)[m,:]"
   ]
  },
  {
   "cell_type": "code",
   "execution_count": 35,
   "metadata": {},
   "outputs": [
    {
     "name": "stdout",
     "output_type": "stream",
     "text": [
      "{0: u'AF', 1: u'AVB', 2: u'BIGEMINY', 3: u'EAR', 4: u'IVR', 5: u'JUNCTIONAL', 6: u'NOISE', 7: u'SINUS', 8: u'SVT', 9: u'TRIGEMINY', 10: u'VT', 11: u'WENCKEBACH'}\n"
     ]
    }
   ],
   "source": [
    "print preproc.int_to_class"
   ]
  },
  {
   "cell_type": "code",
   "execution_count": null,
   "metadata": {},
   "outputs": [],
   "source": [
    "10 IVR, 3 SVT, 3 AFIB, 1 JUNCTIONAL\n"
   ]
  }
 ],
 "metadata": {
  "kernelspec": {
   "display_name": "Python 2",
   "language": "python",
   "name": "python2"
  },
  "language_info": {
   "codemirror_mode": {
    "name": "ipython",
    "version": 2
   },
   "file_extension": ".py",
   "mimetype": "text/x-python",
   "name": "python",
   "nbconvert_exporter": "python",
   "pygments_lexer": "ipython2",
   "version": "2.7.12"
  }
 },
 "nbformat": 4,
 "nbformat_minor": 1
}
